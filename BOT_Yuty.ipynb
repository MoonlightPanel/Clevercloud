{
  "nbformat": 4,
  "nbformat_minor": 0,
  "metadata": {
    "colab": {
      "provenance": [],
      "authorship_tag": "ABX9TyNn+NBqrRRWobwF5TYS29Lz",
      "include_colab_link": true
    },
    "kernelspec": {
      "name": "python3",
      "display_name": "Python 3"
    },
    "language_info": {
      "name": "python"
    }
  },
  "cells": [
    {
      "cell_type": "markdown",
      "metadata": {
        "id": "view-in-github",
        "colab_type": "text"
      },
      "source": [
        "<a href=\"https://colab.research.google.com/github/MoonlightPanel/Clevercloud/blob/main/BOT_Yuty.ipynb\" target=\"_parent\"><img src=\"https://colab.research.google.com/assets/colab-badge.svg\" alt=\"Open In Colab\"/></a>"
      ]
    },
    {
      "cell_type": "code",
      "execution_count": null,
      "metadata": {
        "id": "PJICSZIJXr5a"
      },
      "outputs": [],
      "source": [
        "# Use `n` to install nodejs 18, if it's not already installed:\n",
        "!curl -fsSL https://raw.githubusercontent.com/tj/n/master/bin/n | bash -s lts > /dev/null\n",
        "# Now write the Node.js and Python version to the console\n",
        "!node --version\n",
        "!python --version\n",
        "!pip install javascript"
      ]
    },
    {
      "cell_type": "code",
      "source": [
        "from javascript import require, On, Once, AsyncTask, once, off\n",
        "mineflayer = require('mineflayer')"
      ],
      "metadata": {
        "id": "zBTEeugtXwbP"
      },
      "execution_count": null,
      "outputs": []
    },
    {
      "cell_type": "code",
      "source": [
        "const mineflayer = require('mineflayer');\n",
        "\n",
        "// Số lượng bot cần tạo\n",
        "const BOT_COUNT = 5;\n",
        "\n",
        "// Thông tin máy chủ Minecraft\n",
        "const HOST = 'SaKura-53ct.aternos.me';\n",
        "const PORT = 15901;\n",
        "\n",
        "// Mật khẩu đăng ký và đăng nhập\n",
        "const PASSWORD = 'yutymc2011';\n",
        "\n",
        "// Hàm tạo bot\n",
        "function createBot(index) {\n",
        "  const bot = mineflayer.createBot({\n",
        "    host: HOST,\n",
        "    port: PORT,\n",
        "    username: `bot_${index}`, // Đặt tên bot theo chỉ số\n",
        "    hideErrors: false\n",
        "  });\n",
        "\n",
        "  // Sự kiện khi bot đăng nhập\n",
        "  bot.on('login', () => {\n",
        "    console.log(`Bot ${bot.username} đã đăng nhập thành công!`);\n",
        "  });\n",
        "\n",
        "  // Sự kiện khi bot xuất hiện trong thế giới\n",
        "  bot.on('spawn', () => {\n",
        "    console.log(`Bot ${bot.username} đã xuất hiện trong thế giới.`);\n",
        "\n",
        "    // Gửi lệnh /register\n",
        "    bot.chat(`/register ${PASSWORD} ${PASSWORD}`);\n",
        "    console.log(`Bot ${bot.username} đã thực hiện lệnh /register.`);\n",
        "\n",
        "    // Chờ một chút rồi gửi lệnh /login\n",
        "    setTimeout(() => {\n",
        "      bot.chat(`/login ${PASSWORD}`);\n",
        "      console.log(`Bot ${bot.username} đã thực hiện lệnh /login.`);\n",
        "    }, 2000); // Chờ 2 giây trước khi gửi lệnh /login\n",
        "  });\n",
        "\n",
        "  // Sự kiện khi bot bị ngắt kết nối\n",
        "  bot.on('end', () => {\n",
        "    console.log(`Bot ${bot.username} đã bị ngắt kết nối.`);\n",
        "  });\n",
        "\n",
        "  // Xử lý lỗi\n",
        "  bot.on('error', (err) => {\n",
        "    console.error(`Lỗi ở bot ${bot.username}:`, err);\n",
        "  });\n",
        "\n",
        "  return bot;\n",
        "}\n",
        "\n",
        "// Tạo nhiều bot bằng vòng lặp\n",
        "for (let i = 1; i <= BOT_COUNT; i++) {\n",
        "  createBot(i);\n",
        "}"
      ],
      "metadata": {
        "id": "Yai9eUTEYOZb"
      },
      "execution_count": null,
      "outputs": []
    }
  ]
}